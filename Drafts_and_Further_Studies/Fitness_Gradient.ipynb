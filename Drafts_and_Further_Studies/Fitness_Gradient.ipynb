{
 "cells": [
  {
   "cell_type": "code",
   "execution_count": 1,
   "id": "41ab2e7d",
   "metadata": {},
   "outputs": [],
   "source": [
    "import numpy as np\n",
    "import matplotlib.pyplot as plt\n",
    "from scipy.integrate import odeint\n",
    "%matplotlib inline"
   ]
  },
  {
   "cell_type": "code",
   "execution_count": 2,
   "id": "2008d1f5",
   "metadata": {},
   "outputs": [],
   "source": [
    "# Parameters of the trade-off function\n",
    "be = 0.4  # Singular strategy\n",
    "al_be = 0.02  # alpha(beta*)\n",
    "dal_be = 0.025  # alpha'(beta*)\n",
    "ddal_be = 0.03  # alpha''(beta*)"
   ]
  },
  {
   "cell_type": "code",
   "execution_count": 3,
   "id": "8ac1e4bc",
   "metadata": {},
   "outputs": [],
   "source": [
    "# Default values of parameters for the dynamics of the resident strain\n",
    "beta10 = 0.75  # Transmission rate of the resident strain\n",
    "rho0 = 0.012\n",
    "mu0 = 0.012\n",
    "sigma_S0 = 1  # vulnerability to infection\n",
    "sigma_I0 = 2  # vulnerability to a new infection"
   ]
  },
  {
   "cell_type": "code",
   "execution_count": 4,
   "id": "694dcad9",
   "metadata": {},
   "outputs": [],
   "source": [
    "def fitnessgrad(betam, \n",
    "                mu = mu0, \n",
    "                sigma_S = sigma_S0, \n",
    "                sigma_I = sigma_I0, \n",
    "                S = 0, I1 = 0, D11 = 0):\n",
    "    \n",
    "    lambdam=(betam*(I1+D11))\n",
    "    alpham = al_be - (dal_be**2/ddal_be)*(1 - np.exp(ddal_be*(betam - be)/dal_be))\n",
    "    alphamd = dal_be*np.exp(ddal_be*(betam - be)/dal_be)\n",
    "    dr = sigma_S*S*(((mu+alpham+(sigma_I*lambdam)-(betam*alphamd))/(mu+alpham+(sigma_I*lambdam))**2)+(((sigma_I*lambdam)/(mu+alpham+(sigma_I*lambdam)))*(((mu+alpham-(betam*alphamd))/(mu+alpham)**2)-(((betam*alphamd)/(mu+alpham))/(mu+alpham+(sigma_I*lambdam)))))) + sigma_I*I1*((mu+alpham-(betam*alphamd))/(mu+alpham)**2)\n",
    "    return dr "
   ]
  },
  {
   "cell_type": "code",
   "execution_count": 5,
   "id": "2841504d",
   "metadata": {},
   "outputs": [],
   "source": [
    "# Dynamics of the resident strain\n",
    "def dy_resident(x, t, \n",
    "                beta1 = beta10, \n",
    "                rho = rho0,\n",
    "                mu = mu0, \n",
    "                sigma_S = sigma_S0, \n",
    "                sigma_I = sigma_I0):\n",
    "    \n",
    "    alpha_1 = al_be - dal_be**2/ddal_be*(1 - np.exp(ddal_be*(beta1 - be)/dal_be))\n",
    "    alpha_11 = alpha_1\n",
    "    lambda_1 = beta1 * ( x[1] + x[2] )\n",
    "    dSdt = rho - mu * x[0] - sigma_S * lambda_1 * x[0]\n",
    "    dIdt = sigma_S * lambda_1 * x[0] - (mu + alpha_1 + sigma_I * lambda_1) * x[1]\n",
    "    dDdt = sigma_I * lambda_1 * x[1] - (mu + alpha_11) * x[2]\n",
    "    return dSdt, dIdt, dDdt"
   ]
  },
  {
   "cell_type": "code",
   "execution_count": 6,
   "id": "e2ecc4a7",
   "metadata": {},
   "outputs": [],
   "source": [
    "def singular_strategy(beta1 = beta10,\n",
    "                      rho = rho0,\n",
    "                      mu = mu0, \n",
    "                      sigma_S = sigma_S0, \n",
    "                      sigma_I = sigma_I0):\n",
    "    \n",
    "    # Time points\n",
    "    tmax = 2000\n",
    "    ts = np.linspace(0, 200, tmax)\n",
    "    \n",
    "    # Initial conditions x0 = [S0, I0, D0]\n",
    "    x0 = [0.4, 0.1, 0.05]\n",
    "    \n",
    "    # Solve the population dynamics\n",
    "    xs = odeint(dy_resident, x0, ts, args = (beta1, rho, mu, sigma_S, sigma_I))\n",
    "    \n",
    "    # Find the equilibrium\n",
    "    Se = xs[:, 0][tmax - 1]\n",
    "    I1e = xs[:, 1][tmax - 1]\n",
    "    D11e = xs[:, 2][tmax - 1]\n",
    "    \n",
    "    fitness = []\n",
    "    \n",
    "    betams = np.linspace(0,2,10000)\n",
    "    \n",
    "    for i in list(betams):\n",
    "        fitness.append(fitnessgrad(i, mu = mu, sigma_S = sigma_S, sigma_I = sigma_I, S = Se, I1 = I1e, D11 = D11e))\n",
    "        \n",
    "    if (any(map(lambda x: x > 0, fitness)) & any(map(lambda x: x < 0, fitness))):\n",
    "        for j in range(len(fitness)-1):\n",
    "            if fitness[j] * fitness[j+1] < 0:\n",
    "                s = 0.5 * (betams[j] + betams[j+1])\n",
    "            else:\n",
    "                j = j + 1\n",
    "    \n",
    "    return s"
   ]
  },
  {
   "cell_type": "code",
   "execution_count": 7,
   "id": "d9365d96",
   "metadata": {},
   "outputs": [
    {
     "data": {
      "text/plain": [
       "1.0404040404040404"
      ]
     },
     "execution_count": 7,
     "metadata": {},
     "output_type": "execute_result"
    }
   ],
   "source": [
    "singular_strategy()"
   ]
  },
  {
   "cell_type": "code",
   "execution_count": 8,
   "id": "7181310a",
   "metadata": {},
   "outputs": [
    {
     "data": {
      "image/png": "[encoded data removed]",
      "text/plain": [
       "<Figure size 432x288 with 1 Axes>"
      ]
     },
     "metadata": {
      "needs_background": "light"
     },
     "output_type": "display_data"
    }
   ],
   "source": [
    "# Beta1\n",
    "beta1s = np.linspace(0,2,200)\n",
    "singular_strategies1 = []\n",
    "for k in list(beta1s):\n",
    "    singular_strategies1.append(singular_strategy(beta1 = k))\n",
    "plt.plot(beta1s, singular_strategies1)\n",
    "plt.xlabel('$\\\\beta_1$', fontsize=14)\n",
    "plt.ylabel('Singular strategies', fontsize=14)\n",
    "plt.show()"
   ]
  },
  {
   "cell_type": "code",
   "execution_count": 9,
   "id": "cacf4505",
   "metadata": {},
   "outputs": [
    {
     "data": {
      "image/png": "[encoded data removed]",
      "text/plain": [
       "<Figure size 432x288 with 1 Axes>"
      ]
     },
     "metadata": {
      "needs_background": "light"
     },
     "output_type": "display_data"
    }
   ],
   "source": [
    "# rho\n",
    "rhos = np.linspace(0,0.1,200)\n",
    "singular_strategies2 = []\n",
    "for k in list(rhos):\n",
    "    singular_strategies2.append(singular_strategy(rho = k))\n",
    "plt.plot(rhos, singular_strategies2)\n",
    "plt.xlabel('$\\\\rho$', fontsize=14)\n",
    "plt.ylabel('Singular strategies', fontsize=14)\n",
    "plt.show()"
   ]
  },
  {
   "cell_type": "code",
   "execution_count": 10,
   "id": "b2afa01f",
   "metadata": {},
   "outputs": [
    {
     "data": {
      "image/png": "[encoded data removed]",
      "text/plain": [
       "<Figure size 432x288 with 1 Axes>"
      ]
     },
     "metadata": {
      "needs_background": "light"
     },
     "output_type": "display_data"
    }
   ],
   "source": [
    "# mu\n",
    "mus = np.linspace(0,0.1,200)\n",
    "singular_strategies3 = []\n",
    "for k in list(mus):\n",
    "    singular_strategies3.append(singular_strategy(mu = k))\n",
    "plt.plot(mus, singular_strategies3)\n",
    "plt.xlabel('$\\\\mu$', fontsize=14)\n",
    "plt.ylabel('Singular strategies', fontsize=14)\n",
    "plt.show()"
   ]
  },
  {
   "cell_type": "code",
   "execution_count": 11,
   "id": "83d9969a",
   "metadata": {},
   "outputs": [
    {
     "data": {
      "image/png": "[encoded data removed]",
      "text/plain": [
       "<Figure size 432x288 with 1 Axes>"
      ]
     },
     "metadata": {
      "needs_background": "light"
     },
     "output_type": "display_data"
    }
   ],
   "source": [
    "# rho and mu\n",
    "r_ms = np.linspace(0,0.1,200)\n",
    "singular_strategies4 = []\n",
    "for k in list(r_ms):\n",
    "    singular_strategies4.append(singular_strategy(rho = k, mu = k))\n",
    "plt.plot(r_ms, singular_strategies4)\n",
    "plt.xlabel('$\\\\rho\\ &\\ \\\\mu$', fontsize=14)\n",
    "plt.ylabel('Singular strategies', fontsize=14)\n",
    "plt.show()"
   ]
  },
  {
   "cell_type": "code",
   "execution_count": 12,
   "id": "178379c0",
   "metadata": {},
   "outputs": [
    {
     "data": {
      "image/png": "[encoded data removed]",
      "text/plain": [
       "<Figure size 432x288 with 1 Axes>"
      ]
     },
     "metadata": {
      "needs_background": "light"
     },
     "output_type": "display_data"
    }
   ],
   "source": [
    "# sigma_S\n",
    "sigma_Ss = np.linspace(0,5,500)\n",
    "singular_strategies5 = []\n",
    "for k in list(sigma_Ss):\n",
    "    singular_strategies5.append(singular_strategy(sigma_S = k))\n",
    "plt.plot(sigma_Ss, singular_strategies5)\n",
    "plt.xlabel('$\\\\sigma_S$', fontsize=14)\n",
    "plt.ylabel('Singular strategies', fontsize=14)\n",
    "plt.show()"
   ]
  },
  {
   "cell_type": "code",
   "execution_count": 13,
   "id": "06337a18",
   "metadata": {},
   "outputs": [
    {
     "data": {
      "image/png": "[encoded data removed]",
      "text/plain": [
       "<Figure size 432x288 with 1 Axes>"
      ]
     },
     "metadata": {
      "needs_background": "light"
     },
     "output_type": "display_data"
    }
   ],
   "source": [
    "# sigma_I\n",
    "sigma_Is = np.linspace(0,5,500)\n",
    "singular_strategies6 = []\n",
    "for k in list(sigma_Is):\n",
    "    singular_strategies6.append(singular_strategy(sigma_I = k))\n",
    "plt.plot(sigma_Is, singular_strategies6)\n",
    "plt.xlabel('$\\\\sigma_I$', fontsize=14)\n",
    "plt.ylabel('Singular strategies', fontsize=14)\n",
    "plt.show()"
   ]
  },
  {
   "cell_type": "code",
   "execution_count": null,
   "id": "1d7bb042",
   "metadata": {},
   "outputs": [],
   "source": []
  }
 ],
 "metadata": {
  "kernelspec": {
   "display_name": "Python 3 (ipykernel)",
   "language": "python",
   "name": "python3"
  },
  "language_info": {
   "codemirror_mode": {
    "name": "ipython",
    "version": 3
   },
   "file_extension": ".py",
   "mimetype": "text/x-python",
   "name": "python",
   "nbconvert_exporter": "python",
   "pygments_lexer": "ipython3",
   "version": "3.9.12"
  }
 },
 "nbformat": 4,
 "nbformat_minor": 5
}
