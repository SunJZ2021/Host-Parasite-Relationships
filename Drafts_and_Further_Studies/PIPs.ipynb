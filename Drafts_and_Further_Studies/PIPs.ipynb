{
 "cells": [
  {
   "cell_type": "code",
   "execution_count": 1,
   "metadata": {},
   "outputs": [],
   "source": [
    "import numpy as np\n",
    "import matplotlib.pyplot as plt\n",
    "from scipy.integrate import odeint\n",
    "%matplotlib inline"
   ]
  },
  {
   "cell_type": "code",
   "execution_count": 2,
   "metadata": {},
   "outputs": [],
   "source": [
    "def resident(x, t):\n",
    "    lambda1 = (beta1*(x[1]+x[2]))\n",
    "    sdot = rho - mu*x[0] - sigmaS*lambda1*x[0]\n",
    "    i1dot = sigmaS*lambda1*x[0] - (mu+alpha1+(sigmaI*lambda1))*x[1]\n",
    "    d11dot = sigmaI*lambda1*x[1] - (mu+alpha1)*x[2]\n",
    "    return sdot,i1dot,d11dot"
   ]
  },
  {
   "cell_type": "code",
   "execution_count": 3,
   "metadata": {},
   "outputs": [],
   "source": [
    "mu = 0.02\n",
    "rho = 0.02\n",
    "sigmaS = 1\n",
    "sigmaI = 5\n",
    "\n",
    "tmax2 = 20000\n",
    "ts2 = np.linspace(0,200,tmax2)"
   ]
  },
  {
   "cell_type": "code",
   "execution_count": 10,
   "metadata": {},
   "outputs": [],
   "source": [
    "m = 51\n",
    "rm=np.zeros((m,m))\n",
    "\n",
    "for n in range(0,m):\n",
    "    beta1 = n/50\n",
    "    alpha1 = 0.1 - 0.157**2/0.2*(1 - np.exp(0.2*(beta1 - 0.75)/0.157))\n",
    "    \n",
    "    x0 = [0.8,0.5,0.05]\n",
    "    xs = odeint(resident,x0,ts2)\n",
    "    Ss = xs[:,0]\n",
    "    I1s = xs[:,1]\n",
    "    D11s = xs[:,2]\n",
    "\n",
    "    S=Ss[tmax2-1]\n",
    "    I1=I1s[tmax2-1]\n",
    "    D11=D11s[tmax2-1]\n",
    "    \n",
    "    lambda1 = beta1*(I1+D11)\n",
    "    \n",
    "    for i in range(0,m):\n",
    "        betam = i/50\n",
    "        alpham = 0.1 - 0.157**2/0.2*(1 - np.exp(0.2*(betam - 0.75)/0.157))\n",
    "        \n",
    "        rm[i][n]=(sigmaS*((betam+((betam/(mu+alpham))*sigmaI*lambda1))/(mu+alpham+(sigmaI*lambda1)))*S + sigmaI*(betam/(mu+alpham))*I1) - 1"
   ]
  },
  {
   "cell_type": "code",
   "execution_count": 11,
   "metadata": {},
   "outputs": [
    {
     "data": {
      "text/plain": [
       "array([[-1.        , -1.        , -1.        , ..., -1.        ,\n",
       "        -1.        , -1.        ],\n",
       "       [-0.56077797, -0.56362714, -0.55379699, ..., -0.87228659,\n",
       "        -0.87202856, -0.87173348],\n",
       "       [-0.14519147, -0.15073648, -0.13160517, ..., -0.75144574,\n",
       "        -0.75094355, -0.75036927],\n",
       "       ...,\n",
       "       [ 5.06354538,  5.02421211,  5.15991921, ...,  0.76310836,\n",
       "         0.76667056,  0.77074424],\n",
       "       [ 5.03103771,  4.99191531,  5.12689486, ...,  0.75365604,\n",
       "         0.75719915,  0.76125099],\n",
       "       [ 4.99628545,  4.95738848,  5.09159025, ...,  0.74355106,\n",
       "         0.74707375,  0.75110224]])"
      ]
     },
     "execution_count": 11,
     "metadata": {},
     "output_type": "execute_result"
    }
   ],
   "source": [
    "rm"
   ]
  },
  {
   "cell_type": "code",
   "execution_count": 12,
   "metadata": {},
   "outputs": [
    {
     "data": {
      "image/png": "[encoded data removed]",
      "text/plain": [
       "<Figure size 432x288 with 1 Axes>"
      ]
     },
     "metadata": {
      "needs_background": "light"
     },
     "output_type": "display_data"
    }
   ],
   "source": [
    "bets=np.linspace(0,1,m)\n",
    "plt.contourf(bets,bets,rm,0,colors=('w','k'))\n",
    "plt.xlabel(r'Resident Strategy, $\\beta_1$',fontsize=16)\n",
    "plt.ylabel(r'Mutant Strategy, $\\beta_m$',fontsize=16)\n",
    "plt.tight_layout()\n",
    "#plt.colorbar()\n",
    "plt.show()"
   ]
  },
  {
   "cell_type": "code",
   "execution_count": null,
   "metadata": {},
   "outputs": [],
   "source": []
  },
  {
   "cell_type": "code",
   "execution_count": null,
   "metadata": {},
   "outputs": [],
   "source": []
  },
  {
   "cell_type": "code",
   "execution_count": null,
   "metadata": {},
   "outputs": [],
   "source": []
  }
 ],
 "metadata": {
  "kernelspec": {
   "display_name": "Python 3 (ipykernel)",
   "language": "python",
   "name": "python3"
  },
  "language_info": {
   "codemirror_mode": {
    "name": "ipython",
    "version": 3
   },
   "file_extension": ".py",
   "mimetype": "text/x-python",
   "name": "python",
   "nbconvert_exporter": "python",
   "pygments_lexer": "ipython3",
   "version": "3.9.12"
  }
 },
 "nbformat": 4,
 "nbformat_minor": 4
}
